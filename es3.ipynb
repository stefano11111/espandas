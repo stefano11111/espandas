{
 "cells": [
  {
   "cell_type": "code",
   "execution_count": 1,
   "metadata": {},
   "outputs": [
    {
     "name": "stdout",
     "output_type": "stream",
     "text": [
      "            country beer_servings spirit_servings  life_expentancy\n",
      "5         Argentina           193              25             76.3\n",
      "7         Australia           261              72             82.8\n",
      "8           Austria           279              75             81.5\n",
      "15          Belgium           295              84             81.1\n",
      "40          Croatia           230              87             78.0\n",
      "42           Cyprus           192             154             85.0\n",
      "43          Czechia           361             170             78.8\n",
      "44          Denmark           224               ?             86.0\n",
      "57           France           127             151             82.4\n",
      "61          Germany           346             117             81.0\n",
      "63           Greece           133             112             81.0\n",
      "71          Hungary           234             215             75.8\n",
      "77          Ireland           313             118             81.4\n",
      "79            Italy            85              42             82.7\n",
      "95       Luxembourg           236             133             82.0\n",
      "102           Malta           149             100             81.7\n",
      "113     Netherlands           251              88             81.9\n",
      "114     New Zealand           203              79             81.6\n",
      "119          Norway           169              71             81.8\n",
      "128        Portugal           194              67             81.1\n",
      "140        Slovakia           196             293             76.7\n",
      "141        Slovenia           270              51             88.0\n",
      "146           Spain           284             157             82.8\n",
      "151          Sweden           152              60             82.4\n",
      "152     Switzerland           185             100             83.4\n",
      "167  United Kingdom           219             126             81.2\n",
      "168         Uruguay           115              35             77.0\n",
      "country             object\n",
      "beer_servings       object\n",
      "spirit_servings     object\n",
      "wine_servings      float64\n",
      "life_expentancy    float64\n",
      "region              object\n",
      "gdp_per_capita       int64\n",
      "dtype: object\n"
     ]
    }
   ],
   "source": [
    "# Write a Pandas program to filter the records from the world alcohol consumption dataset where the GDP per capita\n",
    "# is above 10,000 and the wine servings are greater than 100. Retrieve the country, beer servings, spirit servings,\n",
    "# and life expectancy for these filtered records.\n",
    "\n",
    "import pandas as pd\n",
    "db=pd.read_csv(\"World_Alcohol_Dataset - MAIN.csv\")\n",
    "db=db[db[\"wine_servings\"]!=\"?\"]\n",
    "db[\"wine_servings\"]=db[\"wine_servings\"].astype(float)\n",
    "print(db.query(f\"gdp_per_capita > {10000} and wine_servings > {100}\")[[\"country\",\"beer_servings\",\"spirit_servings\",\"life_expentancy\"]])\n",
    "print(db.dtypes)\n",
    "# print(db.head())"
   ]
  }
 ],
 "metadata": {
  "kernelspec": {
   "display_name": "Python 3",
   "language": "python",
   "name": "python3"
  },
  "language_info": {
   "codemirror_mode": {
    "name": "ipython",
    "version": 3
   },
   "file_extension": ".py",
   "mimetype": "text/x-python",
   "name": "python",
   "nbconvert_exporter": "python",
   "pygments_lexer": "ipython3",
   "version": "3.11.3"
  },
  "orig_nbformat": 4
 },
 "nbformat": 4,
 "nbformat_minor": 2
}
