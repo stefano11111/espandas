{
 "cells": [
  {
   "cell_type": "code",
   "execution_count": 33,
   "metadata": {},
   "outputs": [
    {
     "name": "stdout",
     "output_type": "stream",
     "text": [
      "   col1  col2  col3  col4\n",
      "0   796   904   191   621\n",
      "1   438   133   810   690\n",
      "2   983   730   699   255\n",
      "3   382   587   281   198\n",
      "4   931   162   831   252\n",
      "5   542   139   106   525\n",
      "6   109   775   645   301\n",
      "7   981   727   357   946\n",
      "8   423   952   499   446\n",
      "9   122   880   817    11\n"
     ]
    }
   ],
   "source": [
    "# Write a Pandas program to display the dataframe in Heatmap style.\n",
    "\n",
    "import pandas as pd\n",
    "import random\n",
    "import numpy as np\n",
    "from matplotlib import pyplot as plt\n",
    "import seaborn as sns\n",
    "\n",
    "\n",
    "\n",
    "db=pd.DataFrame({\"col1\":[random.randint(0,1001) for _ in range (10)],\n",
    "                 \"col2\":[random.randint(0,1001) for _ in range (10)],\n",
    "                 \"col3\":[random.randint(0,1001) for _ in range (10)],\n",
    "                 \"col4\":[random.randint(0,1001) for _ in range (10)],\n",
    "                 })\n",
    "# l=random.randint(5,15)\n",
    "# for x in range(l):\n",
    "#     a=random.randint(1,9)\n",
    "#     b=random.randint(0,3)\n",
    "#     db.iloc[a,b]=np.nan\n",
    "print(db)\n"
   ]
  },
  {
   "cell_type": "code",
   "execution_count": 36,
   "metadata": {},
   "outputs": [
    {
     "name": "stdout",
     "output_type": "stream",
     "text": [
      "<pandas.io.formats.style.Styler object at 0x000001D7A1A07090>\n"
     ]
    }
   ],
   "source": [
    "def highlight_cells(a):\n",
    "    if a in db[\"col1\"].values:\n",
    "        return f\"background-color:red\"\n",
    "    if a in db[\"col2\"].values :\n",
    "        return f\"background-color:blue\"\n",
    "    if a in db[\"col3\"].values :\n",
    "        return f\"background-color:green\"\n",
    "    if a in db[\"col4\"].values :\n",
    "        return f\"background-color:yellow\"\n",
    "highlighted_df = db.style.applymap(highlight_cells)\n",
    "print(highlighted_df)\n",
    "highlighted_df.to_excel(\"schema.xlsx\",index=False)"
   ]
  }
 ],
 "metadata": {
  "kernelspec": {
   "display_name": "Python 3",
   "language": "python",
   "name": "python3"
  },
  "language_info": {
   "codemirror_mode": {
    "name": "ipython",
    "version": 3
   },
   "file_extension": ".py",
   "mimetype": "text/x-python",
   "name": "python",
   "nbconvert_exporter": "python",
   "pygments_lexer": "ipython3",
   "version": "3.11.3"
  },
  "orig_nbformat": 4
 },
 "nbformat": 4,
 "nbformat_minor": 2
}
