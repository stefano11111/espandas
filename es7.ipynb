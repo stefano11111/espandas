{
 "cells": [
  {
   "cell_type": "code",
   "execution_count": 6,
   "metadata": {},
   "outputs": [
    {
     "name": "stdout",
     "output_type": "stream",
     "text": [
      "71.54827586206896\n",
      "                 country  life_expentancy  gdp_per_capita\n",
      "1                Albania             77.8            4500\n",
      "2                Algeria             75.6            6000\n",
      "4    Antigua and Barbuda             76.4           11000\n",
      "5              Argentina             76.3           11200\n",
      "6                Armenia             74.8            3500\n",
      "..                   ...              ...             ...\n",
      "168              Uruguay             77.0           12800\n",
      "169                  USA             79.3           37800\n",
      "171              Vanuatu             72.0            2900\n",
      "172            Venezuela             74.1            4800\n",
      "173              Vietnam             76.0            2500\n",
      "\n",
      "[102 rows x 3 columns]\n"
     ]
    }
   ],
   "source": [
    "# Write a Pandas program to filter the records from the world alcohol consumption dataset where the life expectancy is \n",
    "# above the average life expectancy of all countries. \n",
    "# Retrieve the country, life expectancy, and GDP per capita for these filtered records.\n",
    "\n",
    "import pandas as pd\n",
    "db=pd.read_csv(\"World_Alcohol_Dataset - MAIN.csv\")\n",
    "db=db[db[\"beer_servings\"]!=\"?\"]\n",
    "db[\"beer_servings\"]=db[\"beer_servings\"].astype(float)\n",
    "db=db[db[\"spirit_servings\"]!=\"?\"]\n",
    "db[\"spirit_servings\"]=db[\"spirit_servings\"].astype(float)\n",
    "db=db[db[\"wine_servings\"]!=\"?\"]\n",
    "db[\"wine_servings\"]=db[\"wine_servings\"].astype(float)\n",
    "\n",
    "avglif=db[\"life_expentancy\"].mean()\n",
    "db1=db.query(f\"life_expentancy>{avglif}\")[[\"country\",\"life_expentancy\",\"gdp_per_capita\"]]\n",
    "print(avglif)\n",
    "print(db1)"
   ]
  }
 ],
 "metadata": {
  "kernelspec": {
   "display_name": "Python 3",
   "language": "python",
   "name": "python3"
  },
  "language_info": {
   "codemirror_mode": {
    "name": "ipython",
    "version": 3
   },
   "file_extension": ".py",
   "mimetype": "text/x-python",
   "name": "python",
   "nbconvert_exporter": "python",
   "pygments_lexer": "ipython3",
   "version": "3.11.3"
  },
  "orig_nbformat": 4
 },
 "nbformat": 4,
 "nbformat_minor": 2
}
