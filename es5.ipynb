{
 "cells": [
  {
   "cell_type": "code",
   "execution_count": 6,
   "metadata": {},
   "outputs": [
    {
     "name": "stdout",
     "output_type": "stream",
     "text": [
      "1             Albania\n",
      "7           Australia\n",
      "8             Austria\n",
      "15            Belgium\n",
      "24           Bulgaria\n",
      "30             Canada\n",
      "33              Chile\n",
      "40            Croatia\n",
      "42             Cyprus\n",
      "43            Czechia\n",
      "53            Estonia\n",
      "56            Finland\n",
      "57             France\n",
      "58              Gabon\n",
      "60            Georgia\n",
      "61            Germany\n",
      "63             Greece\n",
      "71            Hungary\n",
      "72            Iceland\n",
      "77            Ireland\n",
      "89             Latvia\n",
      "94          Lithuania\n",
      "95         Luxembourg\n",
      "102             Malta\n",
      "113       Netherlands\n",
      "114       New Zealand\n",
      "119            Norway\n",
      "124          Paraguay\n",
      "127            Poland\n",
      "128          Portugal\n",
      "130           Romania\n",
      "131            Russia\n",
      "136            Serbia\n",
      "140          Slovakia\n",
      "141          Slovenia\n",
      "144      South Africa\n",
      "146             Spain\n",
      "151            Sweden\n",
      "152       Switzerland\n",
      "167    United Kingdom\n",
      "169               USA\n",
      "Name: country, dtype: object\n"
     ]
    }
   ],
   "source": [
    "# Write a Pandas program to find the countries in the world alcohol consumption dataset where the beer servings,\n",
    "# spirit servings, and wine servings are all greater than 50 liters. Retrieve the country names for these records\n",
    "\n",
    "import pandas as pd\n",
    "db=pd.read_csv(\"World_Alcohol_Dataset - MAIN.csv\")\n",
    "db=db[db[\"beer_servings\"]!=\"?\"]\n",
    "db[\"beer_servings\"]=db[\"beer_servings\"].astype(float)\n",
    "db=db[db[\"spirit_servings\"]!=\"?\"]\n",
    "db[\"spirit_servings\"]=db[\"spirit_servings\"].astype(float)\n",
    "db=db[db[\"wine_servings\"]!=\"?\"]\n",
    "db[\"wine_servings\"]=db[\"wine_servings\"].astype(float)\n",
    "db1=db.query(f\"beer_servings>{50}and spirit_servings>{50} and wine_servings>{50}\")[\"country\"]\n",
    "print(db1)\n",
    "# print(db.head())\n"
   ]
  }
 ],
 "metadata": {
  "kernelspec": {
   "display_name": "Python 3",
   "language": "python",
   "name": "python3"
  },
  "language_info": {
   "codemirror_mode": {
    "name": "ipython",
    "version": 3
   },
   "file_extension": ".py",
   "mimetype": "text/x-python",
   "name": "python",
   "nbconvert_exporter": "python",
   "pygments_lexer": "ipython3",
   "version": "3.11.3"
  },
  "orig_nbformat": 4
 },
 "nbformat": 4,
 "nbformat_minor": 2
}
