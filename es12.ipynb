{
 "cells": [
  {
   "cell_type": "code",
   "execution_count": 1,
   "metadata": {},
   "outputs": [
    {
     "name": "stdout",
     "output_type": "stream",
     "text": [
      "     40    62  74    20\n",
      "0  48.0  83.0  65  76.0\n",
      "1  79.0  98.0  61   0.0\n",
      "2  45.0  41.0  81  30.0\n",
      "3  34.0  67.0  32   NaN\n",
      "4   NaN  12.0  69  72.0\n",
      "5  33.0  82.0   1   NaN\n",
      "6   NaN  44.0  98  76.0\n",
      "7  10.0  30.0  44  46.0\n",
      "8   NaN   NaN  77  85.0\n",
      "9  46.0   NaN   5  16.0\n"
     ]
    }
   ],
   "source": [
    "# Create a dataframe of ten rows, four columns with random values. \n",
    "# Convert some values to nan values. Write a Pandas program which will highlight the nan values.\n",
    "\n",
    "import pandas as pd\n",
    "import random\n",
    "import numpy as np\n",
    "import openpyxl\n",
    "\n",
    "\n",
    "db=pd.DataFrame({random.randint(0,100):[random.randint(0,101) for _ in range (10)],\n",
    "                 random.randint(0,100):[random.randint(0,101) for _ in range (10)],\n",
    "                 random.randint(0,100):[random.randint(0,101) for _ in range (10)],\n",
    "                 random.randint(0,100):[random.randint(0,101) for _ in range (10)],\n",
    "                 })\n",
    "l=random.randint(5,15)\n",
    "for x in range(l):\n",
    "    a=random.randint(1,9)\n",
    "    b=random.randint(0,3)\n",
    "    db.iloc[a,b]=np.nan\n",
    "print(db)\n",
    "\n",
    "\n"
   ]
  },
  {
   "cell_type": "code",
   "execution_count": 2,
   "metadata": {},
   "outputs": [
    {
     "data": {
      "text/html": [
       "<style type=\"text/css\">\n",
       "#T_a6015_row3_col3, #T_a6015_row4_col0, #T_a6015_row5_col3, #T_a6015_row6_col0, #T_a6015_row8_col0, #T_a6015_row8_col1, #T_a6015_row9_col1 {\n",
       "  background-color: yellow;\n",
       "}\n",
       "</style>\n",
       "<table id=\"T_a6015\">\n",
       "  <thead>\n",
       "    <tr>\n",
       "      <th class=\"blank level0\" >&nbsp;</th>\n",
       "      <th id=\"T_a6015_level0_col0\" class=\"col_heading level0 col0\" >40</th>\n",
       "      <th id=\"T_a6015_level0_col1\" class=\"col_heading level0 col1\" >62</th>\n",
       "      <th id=\"T_a6015_level0_col2\" class=\"col_heading level0 col2\" >74</th>\n",
       "      <th id=\"T_a6015_level0_col3\" class=\"col_heading level0 col3\" >20</th>\n",
       "    </tr>\n",
       "  </thead>\n",
       "  <tbody>\n",
       "    <tr>\n",
       "      <th id=\"T_a6015_level0_row0\" class=\"row_heading level0 row0\" >0</th>\n",
       "      <td id=\"T_a6015_row0_col0\" class=\"data row0 col0\" >48.000000</td>\n",
       "      <td id=\"T_a6015_row0_col1\" class=\"data row0 col1\" >83.000000</td>\n",
       "      <td id=\"T_a6015_row0_col2\" class=\"data row0 col2\" >65</td>\n",
       "      <td id=\"T_a6015_row0_col3\" class=\"data row0 col3\" >76.000000</td>\n",
       "    </tr>\n",
       "    <tr>\n",
       "      <th id=\"T_a6015_level0_row1\" class=\"row_heading level0 row1\" >1</th>\n",
       "      <td id=\"T_a6015_row1_col0\" class=\"data row1 col0\" >79.000000</td>\n",
       "      <td id=\"T_a6015_row1_col1\" class=\"data row1 col1\" >98.000000</td>\n",
       "      <td id=\"T_a6015_row1_col2\" class=\"data row1 col2\" >61</td>\n",
       "      <td id=\"T_a6015_row1_col3\" class=\"data row1 col3\" >0.000000</td>\n",
       "    </tr>\n",
       "    <tr>\n",
       "      <th id=\"T_a6015_level0_row2\" class=\"row_heading level0 row2\" >2</th>\n",
       "      <td id=\"T_a6015_row2_col0\" class=\"data row2 col0\" >45.000000</td>\n",
       "      <td id=\"T_a6015_row2_col1\" class=\"data row2 col1\" >41.000000</td>\n",
       "      <td id=\"T_a6015_row2_col2\" class=\"data row2 col2\" >81</td>\n",
       "      <td id=\"T_a6015_row2_col3\" class=\"data row2 col3\" >30.000000</td>\n",
       "    </tr>\n",
       "    <tr>\n",
       "      <th id=\"T_a6015_level0_row3\" class=\"row_heading level0 row3\" >3</th>\n",
       "      <td id=\"T_a6015_row3_col0\" class=\"data row3 col0\" >34.000000</td>\n",
       "      <td id=\"T_a6015_row3_col1\" class=\"data row3 col1\" >67.000000</td>\n",
       "      <td id=\"T_a6015_row3_col2\" class=\"data row3 col2\" >32</td>\n",
       "      <td id=\"T_a6015_row3_col3\" class=\"data row3 col3\" >nan</td>\n",
       "    </tr>\n",
       "    <tr>\n",
       "      <th id=\"T_a6015_level0_row4\" class=\"row_heading level0 row4\" >4</th>\n",
       "      <td id=\"T_a6015_row4_col0\" class=\"data row4 col0\" >nan</td>\n",
       "      <td id=\"T_a6015_row4_col1\" class=\"data row4 col1\" >12.000000</td>\n",
       "      <td id=\"T_a6015_row4_col2\" class=\"data row4 col2\" >69</td>\n",
       "      <td id=\"T_a6015_row4_col3\" class=\"data row4 col3\" >72.000000</td>\n",
       "    </tr>\n",
       "    <tr>\n",
       "      <th id=\"T_a6015_level0_row5\" class=\"row_heading level0 row5\" >5</th>\n",
       "      <td id=\"T_a6015_row5_col0\" class=\"data row5 col0\" >33.000000</td>\n",
       "      <td id=\"T_a6015_row5_col1\" class=\"data row5 col1\" >82.000000</td>\n",
       "      <td id=\"T_a6015_row5_col2\" class=\"data row5 col2\" >1</td>\n",
       "      <td id=\"T_a6015_row5_col3\" class=\"data row5 col3\" >nan</td>\n",
       "    </tr>\n",
       "    <tr>\n",
       "      <th id=\"T_a6015_level0_row6\" class=\"row_heading level0 row6\" >6</th>\n",
       "      <td id=\"T_a6015_row6_col0\" class=\"data row6 col0\" >nan</td>\n",
       "      <td id=\"T_a6015_row6_col1\" class=\"data row6 col1\" >44.000000</td>\n",
       "      <td id=\"T_a6015_row6_col2\" class=\"data row6 col2\" >98</td>\n",
       "      <td id=\"T_a6015_row6_col3\" class=\"data row6 col3\" >76.000000</td>\n",
       "    </tr>\n",
       "    <tr>\n",
       "      <th id=\"T_a6015_level0_row7\" class=\"row_heading level0 row7\" >7</th>\n",
       "      <td id=\"T_a6015_row7_col0\" class=\"data row7 col0\" >10.000000</td>\n",
       "      <td id=\"T_a6015_row7_col1\" class=\"data row7 col1\" >30.000000</td>\n",
       "      <td id=\"T_a6015_row7_col2\" class=\"data row7 col2\" >44</td>\n",
       "      <td id=\"T_a6015_row7_col3\" class=\"data row7 col3\" >46.000000</td>\n",
       "    </tr>\n",
       "    <tr>\n",
       "      <th id=\"T_a6015_level0_row8\" class=\"row_heading level0 row8\" >8</th>\n",
       "      <td id=\"T_a6015_row8_col0\" class=\"data row8 col0\" >nan</td>\n",
       "      <td id=\"T_a6015_row8_col1\" class=\"data row8 col1\" >nan</td>\n",
       "      <td id=\"T_a6015_row8_col2\" class=\"data row8 col2\" >77</td>\n",
       "      <td id=\"T_a6015_row8_col3\" class=\"data row8 col3\" >85.000000</td>\n",
       "    </tr>\n",
       "    <tr>\n",
       "      <th id=\"T_a6015_level0_row9\" class=\"row_heading level0 row9\" >9</th>\n",
       "      <td id=\"T_a6015_row9_col0\" class=\"data row9 col0\" >46.000000</td>\n",
       "      <td id=\"T_a6015_row9_col1\" class=\"data row9 col1\" >nan</td>\n",
       "      <td id=\"T_a6015_row9_col2\" class=\"data row9 col2\" >5</td>\n",
       "      <td id=\"T_a6015_row9_col3\" class=\"data row9 col3\" >16.000000</td>\n",
       "    </tr>\n",
       "  </tbody>\n",
       "</table>\n"
      ],
      "text/plain": [
       "<pandas.io.formats.style.Styler at 0x1f327154350>"
      ]
     },
     "execution_count": 2,
     "metadata": {},
     "output_type": "execute_result"
    }
   ],
   "source": [
    "def highlight(db):\n",
    "    if np.isnan(db):\n",
    "        return 'background-color: yellow'\n",
    "db1=db.style.applymap(highlight)\n",
    "db1"
   ]
  }
 ],
 "metadata": {
  "kernelspec": {
   "display_name": "Python 3",
   "language": "python",
   "name": "python3"
  },
  "language_info": {
   "codemirror_mode": {
    "name": "ipython",
    "version": 3
   },
   "file_extension": ".py",
   "mimetype": "text/x-python",
   "name": "python",
   "nbconvert_exporter": "python",
   "pygments_lexer": "ipython3",
   "version": "3.11.3"
  },
  "orig_nbformat": 4
 },
 "nbformat": 4,
 "nbformat_minor": 2
}
