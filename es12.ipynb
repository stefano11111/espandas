{
 "cells": [
  {
   "cell_type": "code",
   "execution_count": 11,
   "metadata": {},
   "outputs": [
    {
     "name": "stdout",
     "output_type": "stream",
     "text": [
      "     30    16    98    53\n",
      "0  56.0  96.0  15.0  45.0\n",
      "1   6.0   NaN   NaN  40.0\n",
      "2  71.0  49.0  69.0   NaN\n",
      "3  71.0  90.0  98.0   NaN\n",
      "4  18.0   NaN  78.0   NaN\n",
      "5  63.0   7.0   NaN  57.0\n",
      "6  30.0  11.0  22.0   NaN\n",
      "7   NaN  32.0  64.0   NaN\n",
      "8  85.0  77.0  65.0  56.0\n",
      "9  74.0  62.0  86.0   7.0\n"
     ]
    }
   ],
   "source": [
    "# Create a dataframe of ten rows, four columns with random values. \n",
    "# Convert some values to nan values. Write a Pandas program which will highlight the nan values.\n",
    "\n",
    "import pandas as pd\n",
    "import random\n",
    "import numpy as np\n",
    "import openpyxl\n",
    "\n",
    "\n",
    "db=pd.DataFrame({random.randint(0,100):[random.randint(0,101) for _ in range (10)],\n",
    "                 random.randint(0,100):[random.randint(0,101) for _ in range (10)],\n",
    "                 random.randint(0,100):[random.randint(0,101) for _ in range (10)],\n",
    "                 random.randint(0,100):[random.randint(0,101) for _ in range (10)],\n",
    "                 })\n",
    "l=random.randint(5,15)\n",
    "for x in range(l):\n",
    "    a=random.randint(1,9)\n",
    "    b=random.randint(0,3)\n",
    "    db.iloc[a,b]=np.nan\n",
    "print(db)\n",
    "\n",
    "\n"
   ]
  },
  {
   "cell_type": "code",
   "execution_count": 16,
   "metadata": {},
   "outputs": [],
   "source": [
    "def highlight(db):\n",
    "    if np.isnan(db):\n",
    "        return 'background-color: yellow'\n",
    "db1=db.style.applymap(highlight)\n",
    "db1.to_excel(\"style.xlsx\")"
   ]
  }
 ],
 "metadata": {
  "kernelspec": {
   "display_name": "Python 3",
   "language": "python",
   "name": "python3"
  },
  "language_info": {
   "codemirror_mode": {
    "name": "ipython",
    "version": 3
   },
   "file_extension": ".py",
   "mimetype": "text/x-python",
   "name": "python",
   "nbconvert_exporter": "python",
   "pygments_lexer": "ipython3",
   "version": "3.11.3"
  },
  "orig_nbformat": 4
 },
 "nbformat": 4,
 "nbformat_minor": 2
}
