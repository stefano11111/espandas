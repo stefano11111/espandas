{
 "cells": [
  {
   "cell_type": "code",
   "execution_count": 39,
   "metadata": {},
   "outputs": [
    {
     "name": "stdout",
     "output_type": "stream",
     "text": [
      "            country  beer_servings spirit_servings wine_servings  \\\n",
      "7         Australia          261.0              72           212   \n",
      "8           Austria          279.0              75           191   \n",
      "15          Belgium          295.0              84           212   \n",
      "16           Belize          263.0             114             8   \n",
      "22           Brazil          245.0             145            16   \n",
      "24         Bulgaria          231.0             252            94   \n",
      "30           Canada          240.0             122           100   \n",
      "40          Croatia          230.0              87           254   \n",
      "43          Czechia          361.0             170           134   \n",
      "44          Denmark          224.0               ?           278   \n",
      "53          Estonia          224.0             194            59   \n",
      "56          Finland          263.0             133            97   \n",
      "61          Germany          346.0             117           175   \n",
      "71          Hungary          234.0             215           185   \n",
      "72          Iceland          233.0              61            78   \n",
      "77          Ireland          313.0             118           165   \n",
      "89           Latvia          281.0             216            62   \n",
      "94        Lithuania          343.0             244            56   \n",
      "95       Luxembourg          236.0             133           271   \n",
      "105          Mexico          238.0              68             5   \n",
      "113     Netherlands          251.0              88           190   \n",
      "114     New Zealand          203.0              79           175   \n",
      "122          Panama          285.0             104            18   \n",
      "124        Paraguay          213.0             117            74   \n",
      "127          Poland          343.0             215            56   \n",
      "130         Romania          297.0             122           167   \n",
      "131          Russia          247.0             326            73   \n",
      "136          Serbia          283.0             131           127   \n",
      "141        Slovenia          270.0              51           276   \n",
      "146           Spain          284.0             157           112   \n",
      "165         Ukraine          206.0             237            45   \n",
      "167  United Kingdom          219.0             126           195   \n",
      "169             USA          249.0             158            84   \n",
      "172       Venezuela          333.0             100             3   \n",
      "\n",
      "     life_expentancy               region  gdp_per_capita  \n",
      "7               82.8              OCEANIA           29000  \n",
      "8               81.5       WESTERN EUROPE           30000  \n",
      "15              81.1       WESTERN EUROPE           29100  \n",
      "16              71.0  LATIN AMER. & CARIB            4900  \n",
      "22              75.0  LATIN AMER. & CARIB            7600  \n",
      "24              74.5       EASTERN EUROPE            7600  \n",
      "30              82.2     NORTHERN AMERICA           29800  \n",
      "40              78.0       EASTERN EUROPE           10600  \n",
      "43              78.8       EASTERN EUROPE           15700  \n",
      "44              86.0       WESTERN EUROPE           31100  \n",
      "53              77.6              BALTICS           12300  \n",
      "56              81.1       WESTERN EUROPE           27400  \n",
      "61              81.0       WESTERN EUROPE           27600  \n",
      "71              75.8       EASTERN EUROPE           13900  \n",
      "72              82.7       WESTERN EUROPE           30900  \n",
      "77              81.4       WESTERN EUROPE           29600  \n",
      "89              74.6              BALTICS           10200  \n",
      "94              73.6              BALTICS           11400  \n",
      "95              82.0       WESTERN EUROPE           55100  \n",
      "105             76.7  LATIN AMER. & CARIB            9000  \n",
      "113             81.9       WESTERN EUROPE           28600  \n",
      "114             81.6              OCEANIA           21600  \n",
      "122             77.8  LATIN AMER. & CARIB            6300  \n",
      "124             74.0  LATIN AMER. & CARIB            4700  \n",
      "127             77.5       EASTERN EUROPE           11100  \n",
      "130             75.0       EASTERN EUROPE            7000  \n",
      "131             75.0  C.W. OF IND. STATES            8900  \n",
      "136             75.6       EASTERN EUROPE            2200  \n",
      "141             88.0       EASTERN EUROPE           19000  \n",
      "146             82.8       WESTERN EUROPE           22000  \n",
      "165             71.3  C.W. OF IND. STATES            5400  \n",
      "167             81.2       WESTERN EUROPE           27700  \n",
      "169             79.3     NORTHERN AMERICA           37800  \n",
      "172             74.1  LATIN AMER. & CARIB            4800  \n"
     ]
    }
   ],
   "source": [
    "# Write a Pandas program to filter the records from the world alcohol consumption dataset \n",
    "# where the beer servings are greater than 200 lt and the life expectancy is above 70 years.\n",
    "import pandas as pd\n",
    "db=pd.read_csv(\"World_Alcohol_Dataset - MAIN.csv\")\n",
    "db=db[db[\"beer_servings\"]!=\"?\"]\n",
    "db[\"beer_servings\"]=db[\"beer_servings\"].astype(float)\n",
    "print(db.query(f\"beer_servings > {200} and life_expentancy>{70}\"))\n"
   ]
  }
 ],
 "metadata": {
  "kernelspec": {
   "display_name": "Python 3",
   "language": "python",
   "name": "python3"
  },
  "language_info": {
   "codemirror_mode": {
    "name": "ipython",
    "version": 3
   },
   "file_extension": ".py",
   "mimetype": "text/x-python",
   "name": "python",
   "nbconvert_exporter": "python",
   "pygments_lexer": "ipython3",
   "version": "3.11.3"
  },
  "orig_nbformat": 4
 },
 "nbformat": 4,
 "nbformat_minor": 2
}
