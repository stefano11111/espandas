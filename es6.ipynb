{
 "cells": [
  {
   "cell_type": "code",
   "execution_count": 3,
   "metadata": {},
   "outputs": [
    {
     "name": "stdout",
     "output_type": "stream",
     "text": [
      "     country  beer_servings  spirit_servings              region\n",
      "111  Namibia          376.0              3.0  SUB-SAHARAN AFRICA\n",
      "43   Czechia          361.0            170.0      EASTERN EUROPE\n",
      "58     Gabon          347.0             98.0  SUB-SAHARAN AFRICA\n",
      "61   Germany          346.0            117.0      WESTERN EUROPE\n",
      "127   Poland          343.0            215.0      EASTERN EUROPE\n",
      "     country  beer_servings  spirit_servings               region\n",
      "64   Grenada          199.0            438.0  LATIN AMER. & CARIB\n",
      "14   Belarus          142.0            373.0  C.W. OF IND. STATES\n",
      "69     Haiti            1.0            326.0  LATIN AMER. & CARIB\n",
      "131   Russia          247.0            326.0  C.W. OF IND. STATES\n",
      "68    Guyana           93.0            302.0  LATIN AMER. & CARIB\n"
     ]
    }
   ],
   "source": [
    "# Write a Pandas program to find the top 5 countries with the highest beer servings and the highest spirit servings \n",
    "# from the world alcohol consumption dataset. Retrieve the country names, beer servings, spirit servings, \n",
    "# and the corresponding region for these top 5 countries.\n",
    "\n",
    "import pandas as pd\n",
    "db=pd.read_csv(\"World_Alcohol_Dataset - MAIN.csv\")\n",
    "db=db[db[\"beer_servings\"]!=\"?\"]\n",
    "db[\"beer_servings\"]=db[\"beer_servings\"].astype(float)\n",
    "db=db[db[\"spirit_servings\"]!=\"?\"]\n",
    "db[\"spirit_servings\"]=db[\"spirit_servings\"].astype(float)\n",
    "db=db[db[\"wine_servings\"]!=\"?\"]\n",
    "db[\"wine_servings\"]=db[\"wine_servings\"].astype(float)\n",
    "db1=db[[\"country\",\"beer_servings\",\"spirit_servings\",\"region\"]].sort_values(by=\"beer_servings\",ascending=False).head(5)\n",
    "print(db1) #5 countries with highest beer servings\n",
    "db2=db[[\"country\",\"beer_servings\",\"spirit_servings\",\"region\"]].sort_values(by=\"spirit_servings\",ascending=False).head(5)\n",
    "print(db2) #5 countries with highest spirit servings"
   ]
  }
 ],
 "metadata": {
  "kernelspec": {
   "display_name": "Python 3",
   "language": "python",
   "name": "python3"
  },
  "language_info": {
   "codemirror_mode": {
    "name": "ipython",
    "version": 3
   },
   "file_extension": ".py",
   "mimetype": "text/x-python",
   "name": "python",
   "nbconvert_exporter": "python",
   "pygments_lexer": "ipython3",
   "version": "3.11.3"
  },
  "orig_nbformat": 4
 },
 "nbformat": 4,
 "nbformat_minor": 2
}
