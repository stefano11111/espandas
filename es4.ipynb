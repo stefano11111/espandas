{
 "cells": [
  {
   "cell_type": "code",
   "execution_count": 10,
   "metadata": {},
   "outputs": [
    {
     "name": "stdout",
     "output_type": "stream",
     "text": [
      "          country  consumotioncombined                region  gdp_per_capita\n",
      "36        Comoros             1.666667    SUB-SAHARAN AFRICA             700\n",
      "74      Indonesia             2.000000  ASIA (EX. NEAR EAST)            3200\n",
      "101          Mali             2.333333    SUB-SAHARAN AFRICA             900\n",
      "110       Myanmar             2.000000  ASIA (EX. NEAR EAST)            1800\n",
      "116         Niger             2.000000    SUB-SAHARAN AFRICA             800\n",
      "134  Saudi Arabia             1.666667             NEAR EAST           11800\n",
      "157    East Timor             2.000000  ASIA (EX. NEAR EAST)             500\n",
      "174         Yemen             2.000000             NEAR EAST             650\n"
     ]
    }
   ],
   "source": [
    "# Write a Pandas program to filter the records from the world alcohol consumption dataset where the average consumption of beverages per person\n",
    "# (beer, spirit, and wine combined) falls within the range of 0.5 to 2.5. Retrieve the records that include the country,\n",
    "# average consumption, region, and GDP per capita.\n",
    "\n",
    "\n",
    "import pandas as pd\n",
    "db=pd.read_csv(\"World_Alcohol_Dataset - MAIN.csv\")\n",
    "db=db[db[\"beer_servings\"]!=\"?\"]\n",
    "db[\"beer_servings\"]=db[\"beer_servings\"].astype(float)\n",
    "db=db[db[\"spirit_servings\"]!=\"?\"]\n",
    "db[\"spirit_servings\"]=db[\"spirit_servings\"].astype(float)\n",
    "db=db[db[\"wine_servings\"]!=\"?\"]\n",
    "db[\"wine_servings\"]=db[\"wine_servings\"].astype(float)\n",
    "db[\"consumotioncombined\"]=(db[\"wine_servings\"]+db[\"spirit_servings\"]+db[\"beer_servings\"])/3\n",
    "print(db[[\"country\",\"consumotioncombined\",\"region\",\"gdp_per_capita\"]][(db[\"consumotioncombined\"]>=0.5)&(db[\"consumotioncombined\"]<=2.5)])\n",
    "# print(db.dtypes)\n",
    "# print(db.head())"
   ]
  }
 ],
 "metadata": {
  "kernelspec": {
   "display_name": "Python 3",
   "language": "python",
   "name": "python3"
  },
  "language_info": {
   "codemirror_mode": {
    "name": "ipython",
    "version": 3
   },
   "file_extension": ".py",
   "mimetype": "text/x-python",
   "name": "python",
   "nbconvert_exporter": "python",
   "pygments_lexer": "ipython3",
   "version": "3.11.3"
  },
  "orig_nbformat": 4
 },
 "nbformat": 4,
 "nbformat_minor": 2
}
