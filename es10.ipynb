{
 "cells": [
  {
   "cell_type": "code",
   "execution_count": 10,
   "metadata": {},
   "outputs": [
    {
     "name": "stdout",
     "output_type": "stream",
     "text": [
      "  school_code  avg age\n",
      "0        s001     12.5\n",
      "1        s002     13.0\n",
      "2        s003     13.0\n",
      "3        s004     12.0\n",
      "  school_code  min age\n",
      "0        s001       12\n",
      "1        s002       12\n",
      "2        s003       13\n",
      "3        s004       12\n",
      "  school_code  max age\n",
      "0        s001       13\n",
      "1        s002       14\n",
      "2        s003       13\n",
      "3        s004       12\n",
      "   school_code class            name date_Of_Birth   age  height  weight  \\\n",
      "S1        s001     V  Alberto Franco     15/05/2002   12     173      35   \n",
      "S2        s002     V    Gino Mcneill     17/05/2002   12     192      32   \n",
      "S3        s003    VI     Ryan Parkes     16/02/1999   13     186      33   \n",
      "S4        s001    VI    Eesha Hinton     25/09/1998   13     167      30   \n",
      "S5        s002     V    Gino Mcneill     11/05/2002   14     151      31   \n",
      "S6        s004    VI    David Parkes     15/09/1997   12     159      32   \n",
      "\n",
      "    address  \n",
      "S1  street1  \n",
      "S2  street2  \n",
      "S3  street3  \n",
      "S4  street1  \n",
      "S5  street2  \n",
      "S6  street4  \n"
     ]
    }
   ],
   "source": [
    "# Write a Pandas program to split the following dataframe by school code and get mean, min, and max value of age for each school.\n",
    "\n",
    "import pandas as pd\n",
    "\n",
    "student_data = pd.DataFrame({\n",
    "    'school_code': ['s001','s002','s003','s001','s002','s004'],\n",
    "    'class': ['V', 'V', 'VI', 'VI', 'V', 'VI'],\n",
    "    'name': ['Alberto Franco','Gino Mcneill','Ryan Parkes', 'Eesha Hinton', 'Gino Mcneill', 'David Parkes'],\n",
    "    'date_Of_Birth ': ['15/05/2002','17/05/2002','16/02/1999','25/09/1998','11/05/2002','15/09/1997'],\n",
    "    'age': [12, 12, 13, 13, 14, 12],\n",
    "    'height': [173, 192, 186, 167, 151, 159],\n",
    "    'weight': [35, 32, 33, 30, 31, 32],\n",
    "    'address': ['street1', 'street2', 'street3', 'street1', 'street2', 'street4']},\n",
    "    index=['S1', 'S2', 'S3', 'S4', 'S5', 'S6'])\n",
    "sd=student_data[[\"school_code\",\"age\"]].groupby(\"school_code\").mean().age.reset_index()\n",
    "sd=sd.rename(columns={\"age\":\"avg age\"})\n",
    "sd1=student_data[[\"school_code\",\"age\"]].groupby(\"school_code\").min().age.reset_index()\n",
    "sd1=sd1.rename(columns={\"age\":\"min age\"})\n",
    "sd2=student_data[[\"school_code\",\"age\"]].groupby(\"school_code\").max().age.reset_index()\n",
    "sd2=sd2.rename(columns={\"age\":\"max age\"})\n",
    "print(sd)\n",
    "print(sd1)\n",
    "print(sd2)\n"
   ]
  }
 ],
 "metadata": {
  "kernelspec": {
   "display_name": "Python 3",
   "language": "python",
   "name": "python3"
  },
  "language_info": {
   "codemirror_mode": {
    "name": "ipython",
    "version": 3
   },
   "file_extension": ".py",
   "mimetype": "text/x-python",
   "name": "python",
   "nbconvert_exporter": "python",
   "pygments_lexer": "ipython3",
   "version": "3.11.3"
  },
  "orig_nbformat": 4
 },
 "nbformat": 4,
 "nbformat_minor": 2
}
